{
 "cells": [
  {
   "cell_type": "markdown",
   "metadata": {},
   "source": [
    "# Use FIMO  to predict  motif binding consequences of SNPs\n",
    "\n",
    "These snps are reported in the 2013 paper [Meta-analysis of 74,046 individuals identifies 11 new susceptibility loci for Alzheimer’s disease](https://www.ncbi.nlm.nih.gov/pmc/articles/PMC3896259)"
   ]
  },
  {
   "cell_type": "code",
   "execution_count": 18,
   "metadata": {},
   "outputs": [],
   "source": [
    "source(\"src/igapGwasFimoUtils.R\")  "
   ]
  },
  {
   "cell_type": "markdown",
   "metadata": {},
   "source": [
    "###  Vary  these parameters at will.   Upstream and downstream (from the gene's TSS) are corrected for  gene's transcription strand."
   ]
  },
  {
   "cell_type": "code",
   "execution_count": 20,
   "metadata": {},
   "outputs": [
    {
     "name": "stdout",
     "output_type": "stream",
     "text": [
      "[1] snps in region: 2\n"
     ]
    },
    {
     "data": {
      "text/html": [
       "<table>\n",
       "<thead><tr><th scope=col>gene</th><th scope=col>chrom</th><th scope=col>tss</th><th scope=col>gene.strand</th><th scope=col>rsid</th><th scope=col>base</th><th scope=col>igap.wt</th><th scope=col>igap.mut</th><th scope=col>sequence.name</th><th scope=col>matched.sequence</th><th scope=col>motif</th><th scope=col>start</th><th scope=col>stop</th><th scope=col>strand</th><th scope=col>score</th><th scope=col>p.value</th><th scope=col>q.value</th><th scope=col>status</th></tr></thead>\n",
       "<tbody>\n",
       "\t<tr><td>TREM2       </td><td>chr6        </td><td>41163186    </td><td>-           </td><td>rs6933067   </td><td>41165784    </td><td>T           </td><td>C           </td><td>mut         </td><td>GGATAGATGTCA</td><td>MA0783.1    </td><td> 1          </td><td>12          </td><td>+           </td><td>4.508200    </td><td>4.55e-05    </td><td>0.00182     </td><td>gain        </td></tr>\n",
       "\t<tr><td>TREM2       </td><td>chr6        </td><td>41163186    </td><td>-           </td><td>rs6933067   </td><td>41165784    </td><td>T           </td><td>C           </td><td>mut         </td><td>TGACATCTATCC</td><td>MA0782.1    </td><td> 1          </td><td>12          </td><td>-           </td><td>4.000000    </td><td>4.63e-05    </td><td>0.00185     </td><td>gain        </td></tr>\n",
       "\t<tr><td>TREM2       </td><td>chr6        </td><td>41163186    </td><td>-           </td><td>rs6933067   </td><td>41165784    </td><td>T           </td><td>C           </td><td>mut         </td><td>TGACATCTATCC</td><td>MA0796.1    </td><td> 1          </td><td>12          </td><td>-           </td><td>0.307692    </td><td>6.83e-05    </td><td>0.00273     </td><td>gain        </td></tr>\n",
       "\t<tr><td>TREM2       </td><td>chr6        </td><td>41163186    </td><td>-           </td><td>rs6933067   </td><td>41165784    </td><td>T           </td><td>C           </td><td>mut         </td><td>TGACATCTATCC</td><td>MA0797.1    </td><td> 1          </td><td>12          </td><td>-           </td><td>7.366970    </td><td>9.37e-05    </td><td>0.00375     </td><td>gain        </td></tr>\n",
       "\t<tr><td>TREM2       </td><td>chr6        </td><td>41163186    </td><td>-           </td><td>rs7748777   </td><td>41166068    </td><td>G           </td><td>A           </td><td>NA          </td><td>NA          </td><td>NA          </td><td>NA          </td><td>NA          </td><td>NA          </td><td>      NA    </td><td>      NA    </td><td>     NA     </td><td>noMotif     </td></tr>\n",
       "</tbody>\n",
       "</table>\n"
      ],
      "text/latex": [
       "\\begin{tabular}{r|llllllllllllllllll}\n",
       " gene & chrom & tss & gene.strand & rsid & base & igap.wt & igap.mut & sequence.name & matched.sequence & motif & start & stop & strand & score & p.value & q.value & status\\\\\n",
       "\\hline\n",
       "\t TREM2        & chr6         & 41163186     & -            & rs6933067    & 41165784     & T            & C            & mut          & GGATAGATGTCA & MA0783.1     &  1           & 12           & +            & 4.508200     & 4.55e-05     & 0.00182      & gain        \\\\\n",
       "\t TREM2        & chr6         & 41163186     & -            & rs6933067    & 41165784     & T            & C            & mut          & TGACATCTATCC & MA0782.1     &  1           & 12           & -            & 4.000000     & 4.63e-05     & 0.00185      & gain        \\\\\n",
       "\t TREM2        & chr6         & 41163186     & -            & rs6933067    & 41165784     & T            & C            & mut          & TGACATCTATCC & MA0796.1     &  1           & 12           & -            & 0.307692     & 6.83e-05     & 0.00273      & gain        \\\\\n",
       "\t TREM2        & chr6         & 41163186     & -            & rs6933067    & 41165784     & T            & C            & mut          & TGACATCTATCC & MA0797.1     &  1           & 12           & -            & 7.366970     & 9.37e-05     & 0.00375      & gain        \\\\\n",
       "\t TREM2        & chr6         & 41163186     & -            & rs7748777    & 41166068     & G            & A            & NA           & NA           & NA           & NA           & NA           & NA           &       NA     &       NA     &      NA      & noMotif     \\\\\n",
       "\\end{tabular}\n"
      ],
      "text/markdown": [
       "\n",
       "gene | chrom | tss | gene.strand | rsid | base | igap.wt | igap.mut | sequence.name | matched.sequence | motif | start | stop | strand | score | p.value | q.value | status | \n",
       "|---|---|---|---|---|\n",
       "| TREM2        | chr6         | 41163186     | -            | rs6933067    | 41165784     | T            | C            | mut          | GGATAGATGTCA | MA0783.1     |  1           | 12           | +            | 4.508200     | 4.55e-05     | 0.00182      | gain         | \n",
       "| TREM2        | chr6         | 41163186     | -            | rs6933067    | 41165784     | T            | C            | mut          | TGACATCTATCC | MA0782.1     |  1           | 12           | -            | 4.000000     | 4.63e-05     | 0.00185      | gain         | \n",
       "| TREM2        | chr6         | 41163186     | -            | rs6933067    | 41165784     | T            | C            | mut          | TGACATCTATCC | MA0796.1     |  1           | 12           | -            | 0.307692     | 6.83e-05     | 0.00273      | gain         | \n",
       "| TREM2        | chr6         | 41163186     | -            | rs6933067    | 41165784     | T            | C            | mut          | TGACATCTATCC | MA0797.1     |  1           | 12           | -            | 7.366970     | 9.37e-05     | 0.00375      | gain         | \n",
       "| TREM2        | chr6         | 41163186     | -            | rs7748777    | 41166068     | G            | A            | NA           | NA           | NA           | NA           | NA           | NA           |       NA     |       NA     |      NA      | noMotif      | \n",
       "\n",
       "\n"
      ],
      "text/plain": [
       "  gene  chrom tss      gene.strand rsid      base     igap.wt igap.mut\n",
       "1 TREM2 chr6  41163186 -           rs6933067 41165784 T       C       \n",
       "2 TREM2 chr6  41163186 -           rs6933067 41165784 T       C       \n",
       "3 TREM2 chr6  41163186 -           rs6933067 41165784 T       C       \n",
       "4 TREM2 chr6  41163186 -           rs6933067 41165784 T       C       \n",
       "5 TREM2 chr6  41163186 -           rs7748777 41166068 G       A       \n",
       "  sequence.name matched.sequence motif    start stop strand score    p.value \n",
       "1 mut           GGATAGATGTCA     MA0783.1  1    12   +      4.508200 4.55e-05\n",
       "2 mut           TGACATCTATCC     MA0782.1  1    12   -      4.000000 4.63e-05\n",
       "3 mut           TGACATCTATCC     MA0796.1  1    12   -      0.307692 6.83e-05\n",
       "4 mut           TGACATCTATCC     MA0797.1  1    12   -      7.366970 9.37e-05\n",
       "5 NA            NA               NA       NA    NA   NA           NA       NA\n",
       "  q.value status \n",
       "1 0.00182 gain   \n",
       "2 0.00185 gain   \n",
       "3 0.00273 gain   \n",
       "4 0.00375 gain   \n",
       "5      NA noMotif"
      ]
     },
     "metadata": {},
     "output_type": "display_data"
    }
   ],
   "source": [
    "igap.gwas.SNPassay(gene=\"TREM2\", upstream=5000, downstream=100, snp.shoulder=10, quiet=TRUE)"
   ]
  },
  {
   "cell_type": "code",
   "execution_count": null,
   "metadata": {
    "collapsed": true
   },
   "outputs": [],
   "source": []
  }
 ],
 "metadata": {
  "anaconda-cloud": {},
  "kernelspec": {
   "display_name": "R",
   "language": "R",
   "name": "ir"
  },
  "language_info": {
   "codemirror_mode": "r",
   "file_extension": ".r",
   "mimetype": "text/x-r-source",
   "name": "R",
   "pygments_lexer": "r",
   "version": "3.3.2"
  }
 },
 "nbformat": 4,
 "nbformat_minor": 2
}
