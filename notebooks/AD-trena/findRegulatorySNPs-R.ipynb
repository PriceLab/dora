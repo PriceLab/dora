{
 "cells": [
  {
   "cell_type": "code",
   "execution_count": 1,
   "metadata": {},
   "outputs": [
    {
     "name": "stderr",
     "output_type": "stream",
     "text": [
      "Loading required package: DBI\n",
      "Loading required package: stats4\n",
      "Loading required package: BiocGenerics\n",
      "Loading required package: parallel\n",
      "\n",
      "Attaching package: ‘BiocGenerics’\n",
      "\n",
      "The following objects are masked from ‘package:parallel’:\n",
      "\n",
      "    clusterApply, clusterApplyLB, clusterCall, clusterEvalQ,\n",
      "    clusterExport, clusterMap, parApply, parCapply, parLapply,\n",
      "    parLapplyLB, parRapply, parSapply, parSapplyLB\n",
      "\n",
      "The following objects are masked from ‘package:stats’:\n",
      "\n",
      "    IQR, mad, xtabs\n",
      "\n",
      "The following objects are masked from ‘package:base’:\n",
      "\n",
      "    anyDuplicated, append, as.data.frame, cbind, colnames, do.call,\n",
      "    duplicated, eval, evalq, Filter, Find, get, grep, grepl, intersect,\n",
      "    is.unsorted, lapply, lengths, Map, mapply, match, mget, order,\n",
      "    paste, pmax, pmax.int, pmin, pmin.int, Position, rank, rbind,\n",
      "    Reduce, rownames, sapply, setdiff, sort, table, tapply, union,\n",
      "    unique, unsplit, which, which.max, which.min\n",
      "\n",
      "Loading required package: S4Vectors\n",
      "\n",
      "Attaching package: ‘S4Vectors’\n",
      "\n",
      "The following objects are masked from ‘package:base’:\n",
      "\n",
      "    colMeans, colSums, expand.grid, rowMeans, rowSums\n",
      "\n",
      "Loading required package: IRanges\n",
      "Loading required package: GenomeInfoDb\n",
      "Loading required package: glmnet\n",
      "Loading required package: Matrix\n",
      "\n",
      "Attaching package: ‘Matrix’\n",
      "\n",
      "The following object is masked from ‘package:S4Vectors’:\n",
      "\n",
      "    expand\n",
      "\n",
      "Loading required package: foreach\n",
      "Loaded glmnet 2.0-5\n",
      "\n",
      "Loading required package: randomForest\n",
      "randomForest 4.6-12\n",
      "Type rfNews() to see new features/changes/bug fixes.\n",
      "\n",
      "Attaching package: ‘randomForest’\n",
      "\n",
      "The following object is masked from ‘package:BiocGenerics’:\n",
      "\n",
      "    combine\n",
      "\n",
      "Loading required package: vbsr\n",
      "Loading required package: doParallel\n",
      "Loading required package: iterators\n",
      "\n",
      "Attaching package: ‘TReNA’\n",
      "\n",
      "The following object is masked _by_ ‘.GlobalEnv’:\n",
      "\n",
      "    printf\n",
      "\n",
      "The following object is masked from ‘package:Matrix’:\n",
      "\n",
      "    solve\n",
      "\n",
      "The following object is masked from ‘package:base’:\n",
      "\n",
      "    solve\n",
      "\n",
      "Loading required package: pbdZMQ\n",
      "Loading required package: jsonlite\n",
      "Loading required package: BSgenome\n",
      "Loading required package: Biostrings\n",
      "Loading required package: XVector\n",
      "Loading required package: rtracklayer\n"
     ]
    }
   ],
   "source": [
    "library(RPostgreSQL)\n",
    "library(GenomicRanges)\n",
    "library(TReNA)\n",
    "library(FimoClient)\n",
    "library(RUnit)\n",
    "library(BSgenome.Hsapiens.UCSC.hg38)\n",
    "hg38 = BSgenome.Hsapiens.UCSC.hg38\n",
    "library(SNPlocs.Hsapiens.dbSNP144.GRCh38)\n",
    "dbSNP <- SNPlocs.Hsapiens.dbSNP144.GRCh38"
   ]
  },
  {
   "cell_type": "markdown",
   "metadata": {},
   "source": [
    "### create and validate external resources, start by testing the fimo microservice"
   ]
  },
  {
   "cell_type": "code",
   "execution_count": 2,
   "metadata": {},
   "outputs": [
    {
     "data": {
      "text/html": [
       "TRUE"
      ],
      "text/latex": [
       "TRUE"
      ],
      "text/markdown": [
       "TRUE"
      ],
      "text/plain": [
       "[1] TRUE"
      ]
     },
     "metadata": {},
     "output_type": "display_data"
    }
   ],
   "source": [
    "fimo.service <-  FimoClient(\"whovian\", 5558, quiet=TRUE)\n",
    "test.fimo.service <- function(){\n",
    "   requestMatch(fimo.service, list(bogus='xxxxx'))\n",
    "   }\n",
    "checkEquals(nrow(test.fimo.service()), 0)"
   ]
  },
  {
   "cell_type": "markdown",
   "metadata": {},
   "source": [
    "###  some  fimo-related utility functions  (will evolve in time to proper R package)"
   ]
  },
  {
   "cell_type": "code",
   "execution_count": 3,
   "metadata": {},
   "outputs": [
    {
     "name": "stderr",
     "output_type": "stream",
     "text": [
      "Loading required package: GenomicFeatures\n",
      "Loading required package: AnnotationDbi\n",
      "Loading required package: Biobase\n",
      "Welcome to Bioconductor\n",
      "\n",
      "    Vignettes contain introductory material; view with\n",
      "    'browseVignettes()'. To cite Bioconductor, see\n",
      "    'citation(\"Biobase\")', and for packages 'citation(\"pkgname\")'.\n",
      "\n"
     ]
    }
   ],
   "source": [
    "load(\"datalinks/tbl.gwas.level_1.RData\")\n",
    "tmp <- checkEquals(dim(tbl.gwas), c(438609, 9))\n",
    "source(\"src/createIgapFimoTrack.R\")\n",
    "tmp <- checkTrue(is.function(doComparativeFimo))"
   ]
  },
  {
   "cell_type": "markdown",
   "metadata": {},
   "source": [
    "###  now the  gene information (gtf)  database"
   ]
  },
  {
   "cell_type": "code",
   "execution_count": 4,
   "metadata": {
    "collapsed": true
   },
   "outputs": [],
   "source": [
    "db.gtf <- dbConnect(PostgreSQL(), user= \"trena\", password=\"trena\", dbname=\"gtf\", host=\"whovian\")\n",
    "tmp <- checkEquals(dbListTables(db.gtf), \"hg38human\")\n",
    "query <- \"select count(*) from hg38human where moleculetype='gene' and gene_biotype='protein_coding'\"\n",
    "tmp <- checkTrue(dbGetQuery(db.gtf, query)$count > 19500)\n"
   ]
  },
  {
   "cell_type": "code",
   "execution_count": 5,
   "metadata": {
    "collapsed": true
   },
   "outputs": [],
   "source": [
    "load(\"datalinks/tbl.gwas.level_1.RData\")\n",
    "tmp <- checkTrue(nrow(tbl.gwas) > 400000)"
   ]
  },
  {
   "cell_type": "markdown",
   "metadata": {},
   "source": [
    "### initialize the FootprintFinder"
   ]
  },
  {
   "cell_type": "code",
   "execution_count": 6,
   "metadata": {},
   "outputs": [
    {
     "name": "stdout",
     "output_type": "stream",
     "text": [
      "[1] postgres://whovian/hg38/gtf: 2568100 rows\n",
      "[1] postgres://whovian/hg38/motifsgenes: 9289 rows\n",
      "[1] postgres://whovian/brain_hint/regions: 22772585 rows\n"
     ]
    }
   ],
   "source": [
    "genome.db.uri    <- \"postgres://whovian/hg38\"                  # has gtf and motifsgenes tables\n",
    "footprint.db.uri <- \"postgres://whovian/brain_hint\"            # has hits and regions tables\n",
    "fpf <- FootprintFinder(genome.db.uri, footprint.db.uri, quiet=FALSE)"
   ]
  },
  {
   "cell_type": "code",
   "execution_count": 7,
   "metadata": {},
   "outputs": [
    {
     "name": "stdout",
     "output_type": "stream",
     "text": [
      "$chr\n",
      "[1] \"chr5\"\n",
      "\n",
      "$start\n",
      "[1] 88903257\n",
      "\n",
      "$end\n",
      "[1] 88905257\n",
      "\n"
     ]
    }
   ],
   "source": [
    "mef2c.proximal.fp <- getFootprintsForGene(fpf, \"MEF2C\", size.upstream=1000, size.downstream=1000)\n",
    "tmp <- checkTrue(nrow(mef2c.proximal.fp) > 10)"
   ]
  },
  {
   "cell_type": "markdown",
   "metadata": {},
   "source": [
    "### goi:  genes of interest"
   ]
  },
  {
   "cell_type": "code",
   "execution_count": 8,
   "metadata": {
    "collapsed": true
   },
   "outputs": [],
   "source": [
    "goi <- c(\"SNRNP70\", \"SNRPA\", \"SNRPC\", \"SMN1\", \"SNRPB\", \"PLCD1\",                     # from emory, sinai, ufl\n",
    "         \"PTRHD1\", \"SFRP1\", \"PPP1R7\", \"DNM3\", \"RTN4\", \"EPB41L3\", \"TUBB3\",\n",
    "         \"PLEC\", \"ANXA5\", \"MSN\", \"CD44\", \"LMNA\", \"DOCK2\", \"GABBR2\", \"GABRB2\",\n",
    "         \"GIGYF1\", \"ITGB2\", \"JPH3\", \"LAPTM5\", \"NCKAP1L\", \"OPCML\", \"RBM3\",\n",
    "         \"SCAMP1\", \"SCN2A\", \"SELT\", \"SNAP25\", \"SNAP91\", \"STXBP1\", \"SUB1\",\n",
    "         \"SYT1\", \"TARBP1\", \"YWHAG\", \"TGFBR1\", \"BMPR1A\", \"BMPR1B\", \"VGF\", \"CRH\",\n",
    "         \"TREM2\", \"TYROBP\", \"S100A8\", \"S100A9\", \"P2RY2\", \"P2RX7\", \"P2RY12\",\n",
    "         \"P2RY13\", \"OSMR\", \"TLR4\", \"CR1\", \"CSF1R\", \"CX3CR1\", \"SPI1\",\n",
    "         \"TNFRSF10A\", \"TNFRSF10B\", \"MEF2C\",\n",
    "         \"HS3ST1\", \"SQSTM1\", \"TREML2\", \"NDUFAF6\", \"ECHDC3\", \"AP2A2\", \"ADAMTS20\",   # from igap paper\n",
    "         \"SPPL2A\", \"TRIP4\", \"SCIMP\", \"ACE\")"
   ]
  },
  {
   "cell_type": "markdown",
   "metadata": {},
   "source": [
    "###  tbl.genes  has all the information needed on  the goi"
   ]
  },
  {
   "cell_type": "code",
   "execution_count": 9,
   "metadata": {
    "collapsed": true
   },
   "outputs": [],
   "source": [
    "query <- \"select * from hg38human where moleculetype='gene' and gene_biotype='protein_coding'\"\n",
    "tbl <- dbGetQuery(db.gtf, query) [, c(\"chr\", \"gene_name\", \"start\", \"endpos\", \"strand\")]\n",
    "tbl.genes <- subset(tbl, gene_name %in% goi)\n",
    "tbl.genes$TSS <- tbl.genes$start\n",
    "minus.strand.genes <- which(tbl.genes$strand=='-')\n",
    "tbl.genes$TSS[minus.strand.genes] <- tbl.genes$endpos[minus.strand.genes]"
   ]
  },
  {
   "cell_type": "markdown",
   "metadata": {},
   "source": [
    "###  find snps within 'shoulder' distance of each gene's TSS"
   ]
  },
  {
   "cell_type": "code",
   "execution_count": 10,
   "metadata": {},
   "outputs": [
    {
     "name": "stdout",
     "output_type": "stream",
     "text": [
      "\n",
      "      ACE  ADAMTS20     AP2A2    BMPR1B      CD44       CR1       CRH     CSF1R \n",
      "       16         2        31         6         1        18         1         8 \n",
      "    DOCK2    ECHDC3   EPB41L3    GABRB2    HS3ST1    LAPTM5     MEF2C   NCKAP1L \n",
      "        3         3         1         1         2        14        10         7 \n",
      "  NDUFAF6     P2RX7    P2RY12    P2RY13     PLCD1    PPP1R7    PTRHD1      RTN4 \n",
      "       17         1        11        12         1        11        19         1 \n",
      "    SCIMP     SCN2A    SNAP25    SNAP91      SPI1    SPPL2A    SQSTM1      TLR4 \n",
      "       19         5         2         1        15        16        11         6 \n",
      "TNFRSF10A     TREM2    TREML2     TRIP4     TUBB3       VGF     YWHAG \n",
      "        8         4        11         3         3        11         4 \n"
     ]
    }
   ],
   "source": [
    "shoulder <- 8000\n",
    "gr.genes <- with(tbl.genes, GRanges(seqnames=chr, IRanges(start=TSS-shoulder, end=TSS+shoulder)))\n",
    "gr.snps   <- with(tbl.gwas, GRanges(seqnames=CHR, IRanges(start=BP, end=BP)))\n",
    "suppressWarnings(\n",
    "    tbl.overlaps <- as.data.frame(findOverlaps(gr.genes, gr.snps, type=\"any\"))\n",
    "    )\n",
    "tbl.combined <- cbind(tbl.genes[tbl.overlaps$queryHits,], tbl.gwas[tbl.overlaps$subjectHits,])\n",
    "print(table(tbl.combined$gene_name))"
   ]
  },
  {
   "cell_type": "markdown",
   "metadata": {},
   "source": [
    "### create a table of footprints around the tss of each gene in tbl.combined  (slow!  ~ 2 minutes)"
   ]
  },
  {
   "cell_type": "code",
   "execution_count": 11,
   "metadata": {},
   "outputs": [
    {
     "name": "stdout",
     "output_type": "stream",
     "text": [
      "$chr\n",
      "[1] \"chr1\"\n",
      "\n",
      "$start\n",
      "[1] 30756820\n",
      "\n",
      "$end\n",
      "[1] 30758820\n",
      "\n",
      "$chr\n",
      "[1] \"chr1\"\n",
      "\n",
      "$start\n",
      "[1] 207495147\n",
      "\n",
      "$end\n",
      "[1] 207497147\n",
      "\n",
      "$chr\n",
      "[1] \"chr2\"\n",
      "\n",
      "$start\n",
      "[1] 24792382\n",
      "\n",
      "$end\n",
      "[1] 24794382\n",
      "\n",
      "$chr\n",
      "[1] \"chr2\"\n",
      "\n",
      "$start\n",
      "[1] 55111621\n",
      "\n",
      "$end\n",
      "[1] 55113621\n",
      "\n",
      "$chr\n",
      "[1] \"chr2\"\n",
      "\n",
      "$start\n",
      "[1] 165238402\n",
      "\n",
      "$end\n",
      "[1] 165240402\n",
      "\n",
      "$chr\n",
      "[1] \"chr2\"\n",
      "\n",
      "$start\n",
      "[1] 241148576\n",
      "\n",
      "$end\n",
      "[1] 241150576\n",
      "\n",
      "$chr\n",
      "[1] \"chr3\"\n",
      "\n",
      "$start\n",
      "[1] 38028762\n",
      "\n",
      "$end\n",
      "[1] 38030762\n",
      "\n",
      "$chr\n",
      "[1] \"chr3\"\n",
      "\n",
      "$start\n",
      "[1] 151328548\n",
      "\n",
      "$end\n",
      "[1] 151330548\n",
      "\n",
      "$chr\n",
      "[1] \"chr3\"\n",
      "\n",
      "$start\n",
      "[1] 151383812\n",
      "\n",
      "$end\n",
      "[1] 151385812\n",
      "\n",
      "$chr\n",
      "[1] \"chr4\"\n",
      "\n",
      "$start\n",
      "[1] 11428765\n",
      "\n",
      "$end\n",
      "[1] 11430765\n",
      "\n",
      "$chr\n",
      "[1] \"chr4\"\n",
      "\n",
      "$start\n",
      "[1] 94756968\n",
      "\n",
      "$end\n",
      "[1] 94758968\n",
      "\n",
      "$chr\n",
      "[1] \"chr5\"\n",
      "\n",
      "$start\n",
      "[1] 88903257\n",
      "\n",
      "$end\n",
      "[1] 88905257\n",
      "\n",
      "$chr\n",
      "[1] \"chr5\"\n",
      "\n",
      "$start\n",
      "[1] 150112372\n",
      "\n",
      "$end\n",
      "[1] 150114372\n",
      "\n",
      "$chr\n",
      "[1] \"chr5\"\n",
      "\n",
      "$start\n",
      "[1] 161548044\n",
      "\n",
      "$end\n",
      "[1] 161550044\n",
      "\n",
      "$chr\n",
      "[1] \"chr5\"\n",
      "\n",
      "$start\n",
      "[1] 169636247\n",
      "\n",
      "$end\n",
      "[1] 169638247\n",
      "\n",
      "$chr\n",
      "[1] \"chr5\"\n",
      "\n",
      "$start\n",
      "[1] 179805398\n",
      "\n",
      "$end\n",
      "[1] 179807398\n",
      "\n",
      "$chr\n",
      "[1] \"chr6\"\n",
      "\n",
      "$start\n",
      "[1] 41162186\n",
      "\n",
      "$end\n",
      "[1] 41164186\n",
      "\n",
      "$chr\n",
      "[1] \"chr6\"\n",
      "\n",
      "$start\n",
      "[1] 41200194\n",
      "\n",
      "$end\n",
      "[1] 41202194\n",
      "\n",
      "$chr\n",
      "[1] \"chr6\"\n",
      "\n",
      "$start\n",
      "[1] 83708691\n",
      "\n",
      "$end\n",
      "[1] 83710691\n",
      "\n",
      "$chr\n",
      "[1] \"chr7\"\n",
      "\n",
      "$start\n",
      "[1] 76358031\n",
      "\n",
      "$end\n",
      "[1] 76360031\n",
      "\n",
      "$chr\n",
      "[1] \"chr7\"\n",
      "\n",
      "$start\n",
      "[1] 101164593\n",
      "\n",
      "$end\n",
      "[1] 101166593\n",
      "\n",
      "$chr\n",
      "[1] \"chr8\"\n",
      "\n",
      "$start\n",
      "[1] 23224126\n",
      "\n",
      "$end\n",
      "[1] 23226126\n",
      "\n",
      "$chr\n",
      "[1] \"chr8\"\n",
      "\n",
      "$start\n",
      "[1] 66177725\n",
      "\n",
      "$end\n",
      "[1] 66179725\n",
      "\n",
      "$chr\n",
      "[1] \"chr8\"\n",
      "\n",
      "$start\n",
      "[1] 94894767\n",
      "\n",
      "$end\n",
      "[1] 94896767\n",
      "\n",
      "$chr\n",
      "[1] \"chr9\"\n",
      "\n",
      "$start\n",
      "[1] 117703332\n",
      "\n",
      "$end\n",
      "[1] 117705332\n",
      "\n",
      "$chr\n",
      "[1] \"chr11\"\n",
      "\n",
      "$start\n",
      "[1] 923894\n",
      "\n",
      "$end\n",
      "[1] 925894\n",
      "\n",
      "$chr\n",
      "[1] \"chr11\"\n",
      "\n",
      "$start\n",
      "[1] 35137870\n",
      "\n",
      "$end\n",
      "[1] 35139870\n",
      "\n",
      "$chr\n",
      "[1] \"chr11\"\n",
      "\n",
      "$start\n",
      "[1] 47377576\n",
      "\n",
      "$end\n",
      "[1] 47379576\n",
      "\n",
      "$chr\n",
      "[1] \"chr10\"\n",
      "\n",
      "$start\n",
      "[1] 11741366\n",
      "\n",
      "$end\n",
      "[1] 11743366\n",
      "\n",
      "$chr\n",
      "[1] \"chr12\"\n",
      "\n",
      "$start\n",
      "[1] 43550921\n",
      "\n",
      "$end\n",
      "[1] 43552921\n",
      "\n",
      "$chr\n",
      "[1] \"chr12\"\n",
      "\n",
      "$start\n",
      "[1] 54496711\n",
      "\n",
      "$end\n",
      "[1] 54498711\n",
      "\n",
      "$chr\n",
      "[1] \"chr12\"\n",
      "\n",
      "$start\n",
      "[1] 121131819\n",
      "\n",
      "$end\n",
      "[1] 121133819\n",
      "\n",
      "$chr\n",
      "[1] \"chr15\"\n",
      "\n",
      "$start\n",
      "[1] 50764808\n",
      "\n",
      "$end\n",
      "[1] 50766808\n",
      "\n",
      "$chr\n",
      "[1] \"chr15\"\n",
      "\n",
      "$start\n",
      "[1] 64386748\n",
      "\n",
      "$end\n",
      "[1] 64388748\n",
      "\n",
      "$chr\n",
      "[1] \"chr16\"\n",
      "\n",
      "$start\n",
      "[1] 89920392\n",
      "\n",
      "$end\n",
      "[1] 89922392\n",
      "\n",
      "$chr\n",
      "[1] \"chr17\"\n",
      "\n",
      "$start\n",
      "[1] 5233860\n",
      "\n",
      "$end\n",
      "[1] 5235860\n",
      "\n",
      "$chr\n",
      "[1] \"chr17\"\n",
      "\n",
      "$start\n",
      "[1] 63476061\n",
      "\n",
      "$end\n",
      "[1] 63478061\n",
      "\n",
      "$chr\n",
      "[1] \"chr18\"\n",
      "\n",
      "$start\n",
      "[1] 5629700\n",
      "\n",
      "$end\n",
      "[1] 5631700\n",
      "\n",
      "$chr\n",
      "[1] \"chr20\"\n",
      "\n",
      "$start\n",
      "[1] 10217830\n",
      "\n",
      "$end\n",
      "[1] 10219830\n",
      "\n"
     ]
    },
    {
     "data": {
      "text/html": [
       "<ol class=list-inline>\n",
       "\t<li>11509</li>\n",
       "\t<li>17</li>\n",
       "</ol>\n"
      ],
      "text/latex": [
       "\\begin{enumerate*}\n",
       "\\item 11509\n",
       "\\item 17\n",
       "\\end{enumerate*}\n"
      ],
      "text/markdown": [
       "1. 11509\n",
       "2. 17\n",
       "\n",
       "\n"
      ],
      "text/plain": [
       "[1] 11509    17"
      ]
     },
     "metadata": {},
     "output_type": "display_data"
    }
   ],
   "source": [
    "tbl.fp <- data.frame()\n",
    "for(gene in unique(tbl.combined$gene_name)){\n",
    "    #printf(\"--- gene: %s\", gene)\n",
    "    tbl.fpForGene <- getFootprintsForGene(fpf, gene, size.upstream=1000, size.downstream=1000)\n",
    "    #printf(\"%d fps for %s\", nrow(tbl.fpForGene), gene)\n",
    "    tbl.fp <- rbind(tbl.fp, tbl.fpForGene)\n",
    "    }\n",
    "dim(tbl.fp)"
   ]
  },
  {
   "cell_type": "markdown",
   "metadata": {},
   "source": [
    "###  within these gene promoter regions, now find overlap of footprints and  snps"
   ]
  },
  {
   "cell_type": "code",
   "execution_count": 12,
   "metadata": {},
   "outputs": [
    {
     "name": "stdout",
     "output_type": "stream",
     "text": [
      " [1] \"LAPTM5\"    \"SCN2A\"     \"PPP1R7\"    \"P2RY13\"    \"BMPR1B\"    \"DOCK2\"    \n",
      " [7] \"SQSTM1\"    \"TNFRSF10A\" \"NDUFAF6\"   \"TLR4\"      \"AP2A2\"     \"SPPL2A\"   \n",
      "[13] \"SCIMP\"     \"ACE\"       \"SNAP25\"   \n"
     ]
    }
   ],
   "source": [
    "gr.snpsInPromoters <- with(tbl.combined, GRanges(seqnames=chr, IRanges(start=BP, end=BP)))\n",
    "gr.fpInPromoters   <- with(tbl.fp, GRanges(seqnames=chrom, IRanges(start=start-10, end=endpos+10)))\n",
    "tbl.ov2 <- suppressWarnings(as.data.frame(findOverlaps(gr.snpsInPromoters, gr.fpInPromoters, type=\"any\")))\n",
    "\n",
    "tbl.snpsInPromotersInFootprints <- cbind(tbl.combined[tbl.ov2$queryHits,], tbl.fp[tbl.ov2$subjectHits,])\n",
    "print(unique(tbl.snpsInPromotersInFootprints$gene_name))"
   ]
  },
  {
   "cell_type": "markdown",
   "metadata": {},
   "source": [
    "### create tbl.prospects,  a condensed table of gene + snp info"
   ]
  },
  {
   "cell_type": "code",
   "execution_count": 13,
   "metadata": {
    "collapsed": true
   },
   "outputs": [],
   "source": [
    "gene.prospects <- unique(tbl.snpsInPromotersInFootprints$gene_name)\n",
    "tbl.prospects <- data.frame()\n",
    "for(gene in gene.prospects){\n",
    "   tbl.new <- unique(subset(tbl.snpsInPromotersInFootprints, gene_name==gene)[, c(\"gene_name\", \"SNP\", \"chr\", \"BP\", \"strand\")])\n",
    "   tbl.prospects <- rbind(tbl.prospects, tbl.new)\n",
    "   }"
   ]
  },
  {
   "cell_type": "markdown",
   "metadata": {},
   "source": [
    "### iterate over prospects, identify the promoter/footprint snps which change FIMO predictions  (~  90 seconds )"
   ]
  },
  {
   "cell_type": "code",
   "execution_count": 14,
   "metadata": {
    "collapsed": true
   },
   "outputs": [],
   "source": [
    "# make sure the fimo service is up and running.  \n",
    "result <- requestMatch(fimo.service, list(bogus='xxxxx'))\n",
    "tmp <- checkEquals(result, data.frame())"
   ]
  },
  {
   "cell_type": "code",
   "execution_count": 15,
   "metadata": {},
   "outputs": [
    {
     "data": {
      "text/html": [
       "<table>\n",
       "<thead><tr><th></th><th scope=col>gene_name</th><th scope=col>SNP</th><th scope=col>chr</th><th scope=col>BP</th><th scope=col>strand</th></tr></thead>\n",
       "<tbody>\n",
       "\t<tr><th scope=row>430.8</th><td>LAPTM5     </td><td>rs2273979  </td><td>chr1       </td><td> 30757821  </td><td>-          </td></tr>\n",
       "\t<tr><th scope=row>2827</th><td>SCN2A      </td><td>rs6718960  </td><td>chr2       </td><td>165239218  </td><td>+          </td></tr>\n",
       "\t<tr><th scope=row>3279.6</th><td>PPP1R7     </td><td>rs7596642  </td><td>chr2       </td><td>241150035  </td><td>+          </td></tr>\n",
       "\t<tr><th scope=row>3279.7</th><td>PPP1R7     </td><td>rs7584799  </td><td>chr2       </td><td>241150158  </td><td>+          </td></tr>\n",
       "\t<tr><th scope=row>4130.5</th><td>P2RY13     </td><td>rs3732757  </td><td>chr3       </td><td>151328816  </td><td>-          </td></tr>\n",
       "\t<tr><th scope=row>4801.2</th><td>BMPR1B     </td><td>rs4348103  </td><td>chr4       </td><td> 94757292  </td><td>+          </td></tr>\n",
       "\t<tr><th scope=row>5856</th><td>DOCK2      </td><td>rs174658   </td><td>chr5       </td><td>169637710  </td><td>+          </td></tr>\n",
       "\t<tr><th scope=row>5958.8</th><td>SQSTM1     </td><td>rs73351610 </td><td>chr5       </td><td>179805603  </td><td>+          </td></tr>\n",
       "\t<tr><th scope=row>8872.6</th><td>TNFRSF10A  </td><td>rs79037040 </td><td>chr8       </td><td> 23225458  </td><td>-          </td></tr>\n",
       "\t<tr><th scope=row>9168.4</th><td>NDUFAF6    </td><td>rs77733982 </td><td>chr8       </td><td> 94894935  </td><td>+          </td></tr>\n",
       "\t<tr><th scope=row>9168.5</th><td>NDUFAF6    </td><td>rs73271178 </td><td>chr8       </td><td> 94895002  </td><td>+          </td></tr>\n",
       "\t<tr><th scope=row>9168.6</th><td>NDUFAF6    </td><td>rs78578254 </td><td>chr8       </td><td> 94895944  </td><td>+          </td></tr>\n",
       "\t<tr><th scope=row>9168.7</th><td>NDUFAF6    </td><td>rs115646398</td><td>chr8       </td><td> 94896611  </td><td>+          </td></tr>\n",
       "\t<tr><th scope=row>9882</th><td>TLR4       </td><td>rs10818073 </td><td>chr9       </td><td>117705298  </td><td>+          </td></tr>\n",
       "\t<tr><th scope=row>10217.12</th><td>AP2A2      </td><td>rs10794342 </td><td>chr11      </td><td>   924904  </td><td>+          </td></tr>\n",
       "\t<tr><th scope=row>10217.13</th><td>AP2A2      </td><td>rs10794343 </td><td>chr11      </td><td>   925493  </td><td>+          </td></tr>\n",
       "\t<tr><th scope=row>10217.14</th><td>AP2A2      </td><td>rs10902233 </td><td>chr11      </td><td>   925510  </td><td>+          </td></tr>\n",
       "\t<tr><th scope=row>14386.12</th><td>SPPL2A     </td><td>rs3896609  </td><td>chr15      </td><td> 50765671  </td><td>-          </td></tr>\n",
       "\t<tr><th scope=row>15719.8</th><td>SCIMP      </td><td>rs75511804 </td><td>chr17      </td><td>  5235009  </td><td>-          </td></tr>\n",
       "\t<tr><th scope=row>16529.6</th><td>ACE        </td><td>rs4291     </td><td>chr17      </td><td> 63476833  </td><td>+          </td></tr>\n",
       "\t<tr><th scope=row>16529.7</th><td>ACE        </td><td>rs4292     </td><td>chr17      </td><td> 63476980  </td><td>+          </td></tr>\n",
       "\t<tr><th scope=row>17185</th><td>SNAP25     </td><td>rs73075447 </td><td>chr20      </td><td> 10217927  </td><td>+          </td></tr>\n",
       "</tbody>\n",
       "</table>\n"
      ],
      "text/latex": [
       "\\begin{tabular}{r|lllll}\n",
       "  & gene\\_name & SNP & chr & BP & strand\\\\\n",
       "\\hline\n",
       "\t430.8 & LAPTM5      & rs2273979   & chr1        &  30757821   & -          \\\\\n",
       "\t2827 & SCN2A       & rs6718960   & chr2        & 165239218   & +          \\\\\n",
       "\t3279.6 & PPP1R7      & rs7596642   & chr2        & 241150035   & +          \\\\\n",
       "\t3279.7 & PPP1R7      & rs7584799   & chr2        & 241150158   & +          \\\\\n",
       "\t4130.5 & P2RY13      & rs3732757   & chr3        & 151328816   & -          \\\\\n",
       "\t4801.2 & BMPR1B      & rs4348103   & chr4        &  94757292   & +          \\\\\n",
       "\t5856 & DOCK2       & rs174658    & chr5        & 169637710   & +          \\\\\n",
       "\t5958.8 & SQSTM1      & rs73351610  & chr5        & 179805603   & +          \\\\\n",
       "\t8872.6 & TNFRSF10A   & rs79037040  & chr8        &  23225458   & -          \\\\\n",
       "\t9168.4 & NDUFAF6     & rs77733982  & chr8        &  94894935   & +          \\\\\n",
       "\t9168.5 & NDUFAF6     & rs73271178  & chr8        &  94895002   & +          \\\\\n",
       "\t9168.6 & NDUFAF6     & rs78578254  & chr8        &  94895944   & +          \\\\\n",
       "\t9168.7 & NDUFAF6     & rs115646398 & chr8        &  94896611   & +          \\\\\n",
       "\t9882 & TLR4        & rs10818073  & chr9        & 117705298   & +          \\\\\n",
       "\t10217.12 & AP2A2       & rs10794342  & chr11       &    924904   & +          \\\\\n",
       "\t10217.13 & AP2A2       & rs10794343  & chr11       &    925493   & +          \\\\\n",
       "\t10217.14 & AP2A2       & rs10902233  & chr11       &    925510   & +          \\\\\n",
       "\t14386.12 & SPPL2A      & rs3896609   & chr15       &  50765671   & -          \\\\\n",
       "\t15719.8 & SCIMP       & rs75511804  & chr17       &   5235009   & -          \\\\\n",
       "\t16529.6 & ACE         & rs4291      & chr17       &  63476833   & +          \\\\\n",
       "\t16529.7 & ACE         & rs4292      & chr17       &  63476980   & +          \\\\\n",
       "\t17185 & SNAP25      & rs73075447  & chr20       &  10217927   & +          \\\\\n",
       "\\end{tabular}\n"
      ],
      "text/markdown": [
       "\n",
       "| <!--/--> | gene_name | SNP | chr | BP | strand | \n",
       "|---|---|---|---|---|---|---|---|---|---|---|---|---|---|---|---|---|---|---|---|---|---|\n",
       "| 430.8 | LAPTM5      | rs2273979   | chr1        |  30757821   | -           | \n",
       "| 2827 | SCN2A       | rs6718960   | chr2        | 165239218   | +           | \n",
       "| 3279.6 | PPP1R7      | rs7596642   | chr2        | 241150035   | +           | \n",
       "| 3279.7 | PPP1R7      | rs7584799   | chr2        | 241150158   | +           | \n",
       "| 4130.5 | P2RY13      | rs3732757   | chr3        | 151328816   | -           | \n",
       "| 4801.2 | BMPR1B      | rs4348103   | chr4        |  94757292   | +           | \n",
       "| 5856 | DOCK2       | rs174658    | chr5        | 169637710   | +           | \n",
       "| 5958.8 | SQSTM1      | rs73351610  | chr5        | 179805603   | +           | \n",
       "| 8872.6 | TNFRSF10A   | rs79037040  | chr8        |  23225458   | -           | \n",
       "| 9168.4 | NDUFAF6     | rs77733982  | chr8        |  94894935   | +           | \n",
       "| 9168.5 | NDUFAF6     | rs73271178  | chr8        |  94895002   | +           | \n",
       "| 9168.6 | NDUFAF6     | rs78578254  | chr8        |  94895944   | +           | \n",
       "| 9168.7 | NDUFAF6     | rs115646398 | chr8        |  94896611   | +           | \n",
       "| 9882 | TLR4        | rs10818073  | chr9        | 117705298   | +           | \n",
       "| 10217.12 | AP2A2       | rs10794342  | chr11       |    924904   | +           | \n",
       "| 10217.13 | AP2A2       | rs10794343  | chr11       |    925493   | +           | \n",
       "| 10217.14 | AP2A2       | rs10902233  | chr11       |    925510   | +           | \n",
       "| 14386.12 | SPPL2A      | rs3896609   | chr15       |  50765671   | -           | \n",
       "| 15719.8 | SCIMP       | rs75511804  | chr17       |   5235009   | -           | \n",
       "| 16529.6 | ACE         | rs4291      | chr17       |  63476833   | +           | \n",
       "| 16529.7 | ACE         | rs4292      | chr17       |  63476980   | +           | \n",
       "| 17185 | SNAP25      | rs73075447  | chr20       |  10217927   | +           | \n",
       "\n",
       "\n"
      ],
      "text/plain": [
       "         gene_name SNP         chr   BP        strand\n",
       "430.8    LAPTM5    rs2273979   chr1   30757821 -     \n",
       "2827     SCN2A     rs6718960   chr2  165239218 +     \n",
       "3279.6   PPP1R7    rs7596642   chr2  241150035 +     \n",
       "3279.7   PPP1R7    rs7584799   chr2  241150158 +     \n",
       "4130.5   P2RY13    rs3732757   chr3  151328816 -     \n",
       "4801.2   BMPR1B    rs4348103   chr4   94757292 +     \n",
       "5856     DOCK2     rs174658    chr5  169637710 +     \n",
       "5958.8   SQSTM1    rs73351610  chr5  179805603 +     \n",
       "8872.6   TNFRSF10A rs79037040  chr8   23225458 -     \n",
       "9168.4   NDUFAF6   rs77733982  chr8   94894935 +     \n",
       "9168.5   NDUFAF6   rs73271178  chr8   94895002 +     \n",
       "9168.6   NDUFAF6   rs78578254  chr8   94895944 +     \n",
       "9168.7   NDUFAF6   rs115646398 chr8   94896611 +     \n",
       "9882     TLR4      rs10818073  chr9  117705298 +     \n",
       "10217.12 AP2A2     rs10794342  chr11    924904 +     \n",
       "10217.13 AP2A2     rs10794343  chr11    925493 +     \n",
       "10217.14 AP2A2     rs10902233  chr11    925510 +     \n",
       "14386.12 SPPL2A    rs3896609   chr15  50765671 -     \n",
       "15719.8  SCIMP     rs75511804  chr17   5235009 -     \n",
       "16529.6  ACE       rs4291      chr17  63476833 +     \n",
       "16529.7  ACE       rs4292      chr17  63476980 +     \n",
       "17185    SNAP25    rs73075447  chr20  10217927 +     "
      ]
     },
     "metadata": {},
     "output_type": "display_data"
    }
   ],
   "source": [
    "tbl.prospects"
   ]
  },
  {
   "cell_type": "code",
   "execution_count": 16,
   "metadata": {},
   "outputs": [
    {
     "name": "stdout",
     "output_type": "stream",
     "text": [
      "[1] ---- LAPTM5: noMotif\n",
      "[1] ---- SCN2A: gain\n",
      "[1] ---- PPP1R7: noMotif\n",
      "[1] ---- PPP1R7: noMotif\n",
      "[1] ---- P2RY13: noMotif\n",
      "[1] ---- BMPR1B: lossAndGain\n"
     ]
    },
    {
     "name": "stderr",
     "output_type": "stream",
     "text": [
      "Warning message:\n",
      "In if (mut.sequence == wt.sequence) {: the condition has length > 1 and only the first element will be used"
     ]
    },
    {
     "name": "stdout",
     "output_type": "stream",
     "text": [
      "[1] ---- DOCK2: gain\n",
      "[1] ---- SQSTM1: lossAndGain\n",
      "[1] ---- TNFRSF10A: noMotif\n",
      "[1] ---- NDUFAF6: noMotif\n",
      "[1] ---- NDUFAF6: lossAndGain\n",
      "[1] ---- NDUFAF6: gain\n",
      "[1] ---- NDUFAF6: gain\n",
      "[1] ---- TLR4: noMotif\n",
      "[1] ---- AP2A2: gain\n",
      "[1] ---- AP2A2: gain\n",
      "[1] ---- AP2A2: gain\n",
      "[1] ---- SPPL2A: noMotif\n",
      "[1] ---- SCIMP: noMotif\n",
      "[1] ---- ACE: noMotif\n",
      "[1] ---- ACE: noMotif\n",
      "[1] ---- SNAP25: gain\n"
     ]
    }
   ],
   "source": [
    "for(r in 1:nrow(tbl.prospects)){\n",
    "  rsid <- tbl.prospects$SNP[r]\n",
    "  if(rsid == \"rs79037040\") rsid <- \"rs13278062\"\n",
    "  chrom <- tbl.prospects$chr[r]\n",
    "  loc <- tbl.prospects$BP[r]\n",
    "  gene <- tbl.prospects$gene_name[r]\n",
    "  ambiguity.code <- snpsById(dbSNP, rsid)$alleles_as_ambig\n",
    "  elements.string <- IUPAC_CODE_MAP[[ambiguity.code]]\n",
    "  elements <- strsplit(elements.string,'')[[1]]\n",
    "  wt <- as.character(getSeq(hg38, chrom, loc, loc))\n",
    "  mut <- setdiff(elements, wt)\n",
    "  status <- doComparativeFimo(chrom, loc, wt, mut, 10, quiet=TRUE)\n",
    "  printf(\"---- %s: %s\", gene, status)\n",
    "  }"
   ]
  },
  {
   "cell_type": "markdown",
   "metadata": {
    "collapsed": true
   },
   "source": [
    "cory: AP2A2 is interesting because it could easily be tied into APOE (it's also a lipid binding protein).\n",
    "NDUFAF6 is of potential interest because it appears to be pretty central to glucose metabolism, which has been shown to change in people who later develop AD. \n"
   ]
  },
  {
   "cell_type": "code",
   "execution_count": null,
   "metadata": {
    "collapsed": true
   },
   "outputs": [],
   "source": []
  }
 ],
 "metadata": {
  "anaconda-cloud": {},
  "kernelspec": {
   "display_name": "R",
   "language": "R",
   "name": "ir"
  },
  "language_info": {
   "codemirror_mode": "r",
   "file_extension": ".r",
   "mimetype": "text/x-r-source",
   "name": "R",
   "pygments_lexer": "r",
   "version": "3.3.2"
  }
 },
 "nbformat": 4,
 "nbformat_minor": 2
}
