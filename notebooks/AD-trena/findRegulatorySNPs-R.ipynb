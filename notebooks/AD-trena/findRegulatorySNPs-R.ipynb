{
 "cells": [
  {
   "cell_type": "code",
   "execution_count": 6,
   "metadata": {},
   "outputs": [],
   "source": [
    "library(RPostgreSQL)\n",
    "library(GenomicRanges)\n",
    "library(TReNA)\n",
    "library(FimoClient)\n",
    "library(RUnit)\n",
    "library(BSgenome.Hsapiens.UCSC.hg38)\n",
    "hg38 = BSgenome.Hsapiens.UCSC.hg38\n",
    "library(SNPlocs.Hsapiens.dbSNP144.GRCh38)\n",
    "snps <- SNPlocs.Hsapiens.dbSNP144.GRCh38"
   ]
  },
  {
   "cell_type": "markdown",
   "metadata": {},
   "source": [
    "### create and validate all the dynamic resources"
   ]
  },
  {
   "cell_type": "code",
   "execution_count": 29,
   "metadata": {},
   "outputs": [
    {
     "data": {
      "text/html": [
       "TRUE"
      ],
      "text/latex": [
       "TRUE"
      ],
      "text/markdown": [
       "TRUE"
      ],
      "text/plain": [
       "[1] TRUE"
      ]
     },
     "metadata": {},
     "output_type": "display_data"
    }
   ],
   "source": [
    "## did the fimo service start properly?  does it respond?\n",
    "if(!exists(\"fimo.services\"))\n",
    "   fimo.service <-  FimoClient(\"whovian\", 5558, quiet=TRUE)\n",
    "result <- requestMatch(fimo.service, list(bogus='xxxxx'))\n",
    "checkEquals(result, data.frame())"
   ]
  },
  {
   "cell_type": "code",
   "execution_count": 23,
   "metadata": {},
   "outputs": [
    {
     "data": {
      "text/plain": [
       "A ZeroMQ <Socket> R6 class\n",
       "Type: ZMQ_REQ \n",
       "Connected Address: tcp://whovian:5558 "
      ]
     },
     "metadata": {},
     "output_type": "display_data"
    }
   ],
   "source": [
    "x"
   ]
  },
  {
   "cell_type": "code",
   "execution_count": 25,
   "metadata": {},
   "outputs": [
    {
     "ename": "ERROR",
     "evalue": "Error in zmq.getsockopt(x, option.name = \"help\", option.value = \"help\"): INTEGER() can only be applied to a 'integer', not a 'character'\n",
     "output_type": "error",
     "traceback": [
      "Error in zmq.getsockopt(x, option.name = \"help\", option.value = \"help\"): INTEGER() can only be applied to a 'integer', not a 'character'\nTraceback:\n",
      "1. zmq.getsockopt(x, option.name = \"help\", option.value = \"help\")"
     ]
    }
   ],
   "source": [
    "zmq.getsockopt(x, option.name=\"help\", option.value='help')"
   ]
  },
  {
   "cell_type": "code",
   "execution_count": 3,
   "metadata": {},
   "outputs": [
    {
     "name": "stderr",
     "output_type": "stream",
     "text": [
      "Loading required package: GenomicFeatures\n",
      "Loading required package: AnnotationDbi\n",
      "Loading required package: Biobase\n",
      "Welcome to Bioconductor\n",
      "\n",
      "    Vignettes contain introductory material; view with\n",
      "    'browseVignettes()'. To cite Bioconductor, see\n",
      "    'citation(\"Biobase\")', and for packages 'citation(\"pkgname\")'.\n",
      "\n"
     ]
    }
   ],
   "source": [
    "load(\"tbl.gwas.level_1.RData\")\n",
    "source(\"src/createIgapFimoTrack.R\")"
   ]
  },
  {
   "cell_type": "code",
   "execution_count": 4,
   "metadata": {
    "collapsed": true
   },
   "outputs": [],
   "source": [
    "goi <- c(\"SNRNP70\", \"SNRPA\", \"SNRPC\", \"SMN1\", \"SNRPB\", \"PLCD1\",                     # from emory, sinai, ufl\n",
    "         \"PTRHD1\", \"SFRP1\", \"PPP1R7\", \"DNM3\", \"RTN4\", \"EPB41L3\", \"TUBB3\",\n",
    "         \"PLEC\", \"ANXA5\", \"MSN\", \"CD44\", \"LMNA\", \"DOCK2\", \"GABBR2\", \"GABRB2\",\n",
    "         \"GIGYF1\", \"ITGB2\", \"JPH3\", \"LAPTM5\", \"NCKAP1L\", \"OPCML\", \"RBM3\",\n",
    "         \"SCAMP1\", \"SCN2A\", \"SELT\", \"SNAP25\", \"SNAP91\", \"STXBP1\", \"SUB1\",\n",
    "         \"SYT1\", \"TARBP1\", \"YWHAG\", \"TGFBR1\", \"BMPR1A\", \"BMPR1B\", \"VGF\", \"CRH\",\n",
    "         \"TREM2\", \"TYROBP\", \"S100A8\", \"S100A9\", \"P2RY2\", \"P2RX7\", \"P2RY12\",\n",
    "         \"P2RY13\", \"OSMR\", \"TLR4\", \"CR1\", \"CSF1R\", \"CX3CR1\", \"SPI1\",\n",
    "         \"TNFRSF10A\", \"TNFRSF10B\"\n",
    "         \"HS3ST1\", \"SQSTM1\", \"TREML2\", \"NDUFAF6\", \"ECHDC3\", \"AP2A2\", \"ADAMTS20\",   # from igap paper\n",
    "         \"SPPL2A\", \"TRIP4\", \"SCIMP\", \"ACE\""
   ]
  },
  {
   "cell_type": "code",
   "execution_count": 5,
   "metadata": {
    "collapsed": true
   },
   "outputs": [],
   "source": [
    "db.gtf <- dbConnect(PostgreSQL(), user= \"trena\", password=\"trena\", dbname=\"gtf\", host=\"whovian\")\n",
    "query <- \"select * from hg38human where moleculetype='gene' and gene_biotype='protein_coding'\"\n",
    "tbl <- dbGetQuery(db.gtf, query) [, c(\"chr\", \"gene_name\", \"start\", \"endpos\", \"strand\")]\n",
    "tbl.genes <- subset(tbl, gene_name %in% goi)\n",
    "\n",
    "tbl.genes$TSS <- tbl.genes$start\n",
    "minus.strand.genes <- which(tbl.genes$strand=='-')\n",
    "tbl.genes$TSS[minus.strand.genes] <- tbl.genes$endpos[minus.strand.genes]"
   ]
  },
  {
   "cell_type": "code",
   "execution_count": null,
   "metadata": {},
   "outputs": [],
   "source": [
    "shoulder <- 1000\n",
    "gr.genes <- with(tbl.genes, GRanges(seqnames=chr, IRanges(start=TSS-shoulder, end=TSS+shoulder)))\n",
    "gr.snps   <- with(tbl.gwas, GRanges(seqnames=CHR, IRanges(start=BP, end=BP)))\n",
    "suppressWarnings(\n",
    "    tbl.overlaps <- as.data.frame(findOverlaps(gr.genes, gr.snps, type=\"any\"))\n",
    "    )\n",
    "tbl.combined <- cbind(tbl.genes[tbl.overlaps$queryHits,], tbl.gwas[tbl.overlaps$subjectHits,])\n",
    "head(tbl.combined)"
   ]
  },
  {
   "cell_type": "code",
   "execution_count": null,
   "metadata": {},
   "outputs": [],
   "source": [
    "genome.db.uri    <- \"postgres://whovian/hg38\"                  # has gtf and motifsgenes tables\n",
    "footprint.db.uri <- \"postgres://whovian/brain_hint\"            # has hits and regions tables\n",
    "fpf <- FootprintFinder(genome.db.uri, footprint.db.uri, quiet=FALSE)"
   ]
  },
  {
   "cell_type": "code",
   "execution_count": null,
   "metadata": {},
   "outputs": [],
   "source": [
    "# now create a table of footprints around the tss of each gene in tbl.combined\n",
    "tbl.fp <- data.frame()\n",
    "for(gene in unique(tbl.combined$gene_name)){\n",
    "    #printf(\"--- gene: %s\", gene)\n",
    "    tbl.fpForGene <- getFootprintsForGene(fpf, gene, size.upstream=1000, size.downstream=1000)\n",
    "    #printf(\"%d fps for %s\", nrow(tbl.fpForGene), gene)\n",
    "    tbl.fp <- rbind(tbl.fp, tbl.fpForGene)\n",
    "    }\n",
    "dim(tbl.fp)"
   ]
  },
  {
   "cell_type": "code",
   "execution_count": null,
   "metadata": {},
   "outputs": [],
   "source": [
    "gr.snpsInPromoters <- with(tbl.combined, GRanges(seqnames=chr, IRanges(start=BP, end=BP)))\n",
    "gr.fpInPromoters   <- with(tbl.fp, GRanges(seqnames=chrom, IRanges(start=start-10, end=endpos+10)))\n",
    "tbl.ov2 <- suppressWarnings(as.data.frame(findOverlaps(gr.snpsInPromoters, gr.fpInPromoters, type=\"any\")))\n",
    "\n",
    "tbl.snpsInPromotersInFootprints <- cbind(tbl.combined[tbl.ov2$queryHits,], tbl.fp[tbl.ov2$subjectHits,])\n",
    "print(table(tbl.snpsInPromotersInFootprints$gene_name))"
   ]
  },
  {
   "cell_type": "code",
   "execution_count": null,
   "metadata": {
    "collapsed": true
   },
   "outputs": [],
   "source": [
    "gene.prospects <- unique(tbl.snpsInPromotersInFootprints$gene_name)\n",
    "tbl.prospects <- data.frame()\n",
    "for(gene in gene.prospects){\n",
    "   tbl.new <- unique(subset(tbl.snpsInPromotersInFootprints, gene_name==gene)[, c(\"gene_name\", \"SNP\", \"chr\", \"BP\", \"strand\")])\n",
    "   tbl.prospects <- rbind(tbl.prospects, tbl.new)\n",
    "   }"
   ]
  },
  {
   "cell_type": "code",
   "execution_count": null,
   "metadata": {},
   "outputs": [],
   "source": [
    "for(r in 1:nrow(tbl.prospects)){\n",
    "  rsid <- tbl.prospects$SNP[r]\n",
    "  if(rsid == \"rs79037040\") rsid <- \"rs13278062\"\n",
    "  chrom <- tbl.prospects$chr[r]\n",
    "  loc <- tbl.prospects$BP[r]\n",
    "  gene <- tbl.prospects$gene_name[r]\n",
    "  ambiguity.code <- snpsById(snps, rsid)$alleles_as_ambig\n",
    "  elements.string <- IUPAC_CODE_MAP[[ambiguity.code]]\n",
    "  elements <- strsplit(elements.string,'')[[1]]\n",
    "  wt <- as.character(getSeq(hg38, chrom, loc, loc))\n",
    "  mut <- setdiff(elements, wt)\n",
    "  status <- doComparativeFimo(chrom, loc, wt, mut, 10, quiet=TRUE)\n",
    "  printf(\"---- %s: %s\", gene, status)\n",
    "  }"
   ]
  },
  {
   "cell_type": "code",
   "execution_count": null,
   "metadata": {
    "collapsed": true
   },
   "outputs": [],
   "source": []
  }
 ],
 "metadata": {
  "anaconda-cloud": {},
  "kernelspec": {
   "display_name": "R",
   "language": "R",
   "name": "ir"
  },
  "language_info": {
   "codemirror_mode": "r",
   "file_extension": ".r",
   "mimetype": "text/x-r-source",
   "name": "R",
   "pygments_lexer": "r",
   "version": "3.3.2"
  }
 },
 "nbformat": 4,
 "nbformat_minor": 2
}
