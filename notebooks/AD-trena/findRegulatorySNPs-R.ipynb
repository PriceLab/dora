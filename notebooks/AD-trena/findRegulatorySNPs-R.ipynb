{
 "cells": [
  {
   "cell_type": "code",
   "execution_count": 1,
   "metadata": {},
   "outputs": [
    {
     "name": "stderr",
     "output_type": "stream",
     "text": [
      "Loading required package: DBI\n",
      "Loading required package: stats4\n",
      "Loading required package: BiocGenerics\n",
      "Loading required package: parallel\n",
      "\n",
      "Attaching package: ‘BiocGenerics’\n",
      "\n",
      "The following objects are masked from ‘package:parallel’:\n",
      "\n",
      "    clusterApply, clusterApplyLB, clusterCall, clusterEvalQ,\n",
      "    clusterExport, clusterMap, parApply, parCapply, parLapply,\n",
      "    parLapplyLB, parRapply, parSapply, parSapplyLB\n",
      "\n",
      "The following objects are masked from ‘package:stats’:\n",
      "\n",
      "    IQR, mad, xtabs\n",
      "\n",
      "The following objects are masked from ‘package:base’:\n",
      "\n",
      "    anyDuplicated, append, as.data.frame, cbind, colnames, do.call,\n",
      "    duplicated, eval, evalq, Filter, Find, get, grep, grepl, intersect,\n",
      "    is.unsorted, lapply, lengths, Map, mapply, match, mget, order,\n",
      "    paste, pmax, pmax.int, pmin, pmin.int, Position, rank, rbind,\n",
      "    Reduce, rownames, sapply, setdiff, sort, table, tapply, union,\n",
      "    unique, unsplit, which, which.max, which.min\n",
      "\n",
      "Loading required package: S4Vectors\n",
      "\n",
      "Attaching package: ‘S4Vectors’\n",
      "\n",
      "The following objects are masked from ‘package:base’:\n",
      "\n",
      "    colMeans, colSums, expand.grid, rowMeans, rowSums\n",
      "\n",
      "Loading required package: IRanges\n",
      "Loading required package: GenomeInfoDb\n",
      "Loading required package: glmnet\n",
      "Loading required package: Matrix\n",
      "\n",
      "Attaching package: ‘Matrix’\n",
      "\n",
      "The following object is masked from ‘package:S4Vectors’:\n",
      "\n",
      "    expand\n",
      "\n",
      "Loading required package: foreach\n",
      "Loaded glmnet 2.0-5\n",
      "\n",
      "Loading required package: randomForest\n",
      "randomForest 4.6-12\n",
      "Type rfNews() to see new features/changes/bug fixes.\n",
      "\n",
      "Attaching package: ‘randomForest’\n",
      "\n",
      "The following object is masked from ‘package:BiocGenerics’:\n",
      "\n",
      "    combine\n",
      "\n",
      "Loading required package: vbsr\n",
      "Loading required package: doParallel\n",
      "Loading required package: iterators\n",
      "\n",
      "Attaching package: ‘TReNA’\n",
      "\n",
      "The following object is masked _by_ ‘.GlobalEnv’:\n",
      "\n",
      "    printf\n",
      "\n",
      "The following object is masked from ‘package:Matrix’:\n",
      "\n",
      "    solve\n",
      "\n",
      "The following object is masked from ‘package:base’:\n",
      "\n",
      "    solve\n",
      "\n",
      "Loading required package: pbdZMQ\n",
      "Loading required package: jsonlite\n",
      "Loading required package: BSgenome\n",
      "Loading required package: Biostrings\n",
      "Loading required package: XVector\n",
      "Loading required package: rtracklayer\n"
     ]
    }
   ],
   "source": [
    "library(RPostgreSQL)\n",
    "library(GenomicRanges)\n",
    "library(TReNA)\n",
    "library(FimoClient)\n",
    "library(RUnit)\n",
    "library(BSgenome.Hsapiens.UCSC.hg38)\n",
    "hg38 = BSgenome.Hsapiens.UCSC.hg38\n",
    "library(SNPlocs.Hsapiens.dbSNP144.GRCh38)\n",
    "dbSNP <- SNPlocs.Hsapiens.dbSNP144.GRCh38"
   ]
  },
  {
   "cell_type": "markdown",
   "metadata": {},
   "source": [
    "### create and validate external resources, starting with the fimo microservice"
   ]
  },
  {
   "cell_type": "code",
   "execution_count": 2,
   "metadata": {},
   "outputs": [],
   "source": [
    "if(!exists(\"fimo.services\"))\n",
    "   fimo.service <-  FimoClient(\"whovian\", 5558, quiet=TRUE)\n",
    "result <- requestMatch(fimo.service, list(bogus='xxxxx'))\n",
    "tmp <- checkEquals(result, data.frame())"
   ]
  },
  {
   "cell_type": "markdown",
   "metadata": {},
   "source": [
    "###  some  fimo-related utility functions  (will evolve in time to proper R package)"
   ]
  },
  {
   "cell_type": "code",
   "execution_count": 3,
   "metadata": {},
   "outputs": [
    {
     "name": "stderr",
     "output_type": "stream",
     "text": [
      "Loading required package: GenomicFeatures\n",
      "Loading required package: AnnotationDbi\n",
      "Loading required package: Biobase\n",
      "Welcome to Bioconductor\n",
      "\n",
      "    Vignettes contain introductory material; view with\n",
      "    'browseVignettes()'. To cite Bioconductor, see\n",
      "    'citation(\"Biobase\")', and for packages 'citation(\"pkgname\")'.\n",
      "\n"
     ]
    }
   ],
   "source": [
    "load(\"datalinks/tbl.gwas.level_1.RData\")\n",
    "tmp <- checkEquals(dim(tbl.gwas), c(438609, 9))\n",
    "source(\"src/createIgapFimoTrack.R\")\n",
    "tmp <- checkTrue(is.function(doComparativeFimo))"
   ]
  },
  {
   "cell_type": "markdown",
   "metadata": {},
   "source": [
    "###  now the  gene information (gtf)  database"
   ]
  },
  {
   "cell_type": "code",
   "execution_count": 4,
   "metadata": {},
   "outputs": [],
   "source": [
    "db.gtf <- dbConnect(PostgreSQL(), user= \"trena\", password=\"trena\", dbname=\"gtf\", host=\"whovian\")\n",
    "tmp <- checkEquals(dbListTables(db.gtf), \"hg38human\")\n",
    "query <- \"select count(*) from hg38human where moleculetype='gene' and gene_biotype='protein_coding'\"\n",
    "tmp <- checkTrue(dbGetQuery(db.gtf, query)$count > 19500)\n"
   ]
  },
  {
   "cell_type": "code",
   "execution_count": 5,
   "metadata": {},
   "outputs": [],
   "source": [
    "load(\"datalinks/tbl.gwas.level_1.RData\")\n",
    "tmp <- checkTrue(nrow(tbl.gwas) > 400000)"
   ]
  },
  {
   "cell_type": "markdown",
   "metadata": {},
   "source": [
    "### initialize the FootprintFinder"
   ]
  },
  {
   "cell_type": "code",
   "execution_count": 6,
   "metadata": {},
   "outputs": [
    {
     "name": "stdout",
     "output_type": "stream",
     "text": [
      "[1] postgres://whovian/hg38/gtf: 2568100 rows\n",
      "[1] postgres://whovian/hg38/motifsgenes: 9289 rows\n",
      "[1] postgres://whovian/brain_hint/regions: 22772585 rows\n"
     ]
    }
   ],
   "source": [
    "genome.db.uri    <- \"postgres://whovian/hg38\"                  # has gtf and motifsgenes tables\n",
    "footprint.db.uri <- \"postgres://whovian/brain_hint\"            # has hits and regions tables\n",
    "fpf <- FootprintFinder(genome.db.uri, footprint.db.uri, quiet=FALSE)"
   ]
  },
  {
   "cell_type": "code",
   "execution_count": 7,
   "metadata": {},
   "outputs": [
    {
     "name": "stdout",
     "output_type": "stream",
     "text": [
      "$chr\n",
      "[1] \"chr5\"\n",
      "\n",
      "$start\n",
      "[1] 88903257\n",
      "\n",
      "$end\n",
      "[1] 88905257\n",
      "\n"
     ]
    }
   ],
   "source": [
    "mef2c.proximal.fp <- getFootprintsForGene(fpf, \"MEF2C\", size.upstream=1000, size.downstream=1000)\n",
    "tmp <- checkTrue(nrow(mef2c.proximal.fp) > 10)"
   ]
  },
  {
   "cell_type": "markdown",
   "metadata": {},
   "source": [
    "### goi:  genes of interest"
   ]
  },
  {
   "cell_type": "code",
   "execution_count": 8,
   "metadata": {},
   "outputs": [],
   "source": [
    "goi <- c(\"SNRNP70\", \"SNRPA\", \"SNRPC\", \"SMN1\", \"SNRPB\", \"PLCD1\",                     # from emory, sinai, ufl\n",
    "         \"PTRHD1\", \"SFRP1\", \"PPP1R7\", \"DNM3\", \"RTN4\", \"EPB41L3\", \"TUBB3\",\n",
    "         \"PLEC\", \"ANXA5\", \"MSN\", \"CD44\", \"LMNA\", \"DOCK2\", \"GABBR2\", \"GABRB2\",\n",
    "         \"GIGYF1\", \"ITGB2\", \"JPH3\", \"LAPTM5\", \"NCKAP1L\", \"OPCML\", \"RBM3\",\n",
    "         \"SCAMP1\", \"SCN2A\", \"SELT\", \"SNAP25\", \"SNAP91\", \"STXBP1\", \"SUB1\",\n",
    "         \"SYT1\", \"TARBP1\", \"YWHAG\", \"TGFBR1\", \"BMPR1A\", \"BMPR1B\", \"VGF\", \"CRH\",\n",
    "         \"TREM2\", \"TYROBP\", \"S100A8\", \"S100A9\", \"P2RY2\", \"P2RX7\", \"P2RY12\",\n",
    "         \"P2RY13\", \"OSMR\", \"TLR4\", \"CR1\", \"CSF1R\", \"CX3CR1\", \"SPI1\",\n",
    "         \"TNFRSF10A\", \"TNFRSF10B\",\n",
    "         \"HS3ST1\", \"SQSTM1\", \"TREML2\", \"NDUFAF6\", \"ECHDC3\", \"AP2A2\", \"ADAMTS20\",   # from igap paper\n",
    "         \"SPPL2A\", \"TRIP4\", \"SCIMP\", \"ACE\")"
   ]
  },
  {
   "cell_type": "markdown",
   "metadata": {},
   "source": [
    "###  tbl.genes  has all the information needed on  the goi"
   ]
  },
  {
   "cell_type": "code",
   "execution_count": 9,
   "metadata": {
    "collapsed": true
   },
   "outputs": [],
   "source": [
    "query <- \"select * from hg38human where moleculetype='gene' and gene_biotype='protein_coding'\"\n",
    "tbl <- dbGetQuery(db.gtf, query) [, c(\"chr\", \"gene_name\", \"start\", \"endpos\", \"strand\")]\n",
    "tbl.genes <- subset(tbl, gene_name %in% goi)\n",
    "tbl.genes$TSS <- tbl.genes$start\n",
    "minus.strand.genes <- which(tbl.genes$strand=='-')\n",
    "tbl.genes$TSS[minus.strand.genes] <- tbl.genes$endpos[minus.strand.genes]"
   ]
  },
  {
   "cell_type": "markdown",
   "metadata": {},
   "source": [
    "###  find snps within 'shoulder' distance of each gene's TSS"
   ]
  },
  {
   "cell_type": "code",
   "execution_count": 10,
   "metadata": {},
   "outputs": [
    {
     "data": {
      "text/html": [
       "<table>\n",
       "<thead><tr><th></th><th scope=col>chr</th><th scope=col>gene_name</th><th scope=col>start</th><th scope=col>endpos</th><th scope=col>strand</th><th scope=col>TSS</th><th scope=col>CHR</th><th scope=col>oldPos</th><th scope=col>BP</th><th scope=col>SNP</th><th scope=col>Effect_allele</th><th scope=col>Non_Effect_allele</th><th scope=col>Beta</th><th scope=col>SE</th><th scope=col>P</th></tr></thead>\n",
       "<tbody>\n",
       "\t<tr><th scope=row>430</th><td>chr1      </td><td>LAPTM5    </td><td>30732469  </td><td>30757820  </td><td>-         </td><td>30757820  </td><td>chr1      </td><td>31230007  </td><td>30757160  </td><td>rs2377488 </td><td>C         </td><td>G         </td><td>0.0525    </td><td>0.0200    </td><td>0.008816  </td></tr>\n",
       "\t<tr><th scope=row>430.1</th><td>chr1      </td><td>LAPTM5    </td><td>30732469  </td><td>30757820  </td><td>-         </td><td>30757820  </td><td>chr1      </td><td>31230099  </td><td>30757252  </td><td>rs1407884 </td><td>A         </td><td>G         </td><td>0.0514    </td><td>0.0199    </td><td>0.009655  </td></tr>\n",
       "\t<tr><th scope=row>430.2</th><td>chr1      </td><td>LAPTM5    </td><td>30732469  </td><td>30757820  </td><td>-         </td><td>30757820  </td><td>chr1      </td><td>31230668  </td><td>30757821  </td><td>rs2273979 </td><td>T         </td><td>C         </td><td>0.0514    </td><td>0.0198    </td><td>0.009553  </td></tr>\n",
       "\t<tr><th scope=row>430.3</th><td>chr1      </td><td>LAPTM5    </td><td>30732469  </td><td>30757820  </td><td>-         </td><td>30757820  </td><td>chr1      </td><td>31231254  </td><td>30758407  </td><td>rs80174570</td><td>G         </td><td>T         </td><td>0.0329    </td><td>0.0163    </td><td>0.043180  </td></tr>\n",
       "\t<tr><th scope=row>430.4</th><td>chr1      </td><td>LAPTM5    </td><td>30732469  </td><td>30757820  </td><td>-         </td><td>30757820  </td><td>chr1      </td><td>31231333  </td><td>30758486  </td><td>rs10914193</td><td>A         </td><td>G         </td><td>0.0317    </td><td>0.0154    </td><td>0.039570  </td></tr>\n",
       "\t<tr><th scope=row>430.5</th><td>chr1      </td><td>LAPTM5    </td><td>30732469  </td><td>30757820  </td><td>-         </td><td>30757820  </td><td>chr1      </td><td>31231386  </td><td>30758539  </td><td>rs3762296 </td><td>A         </td><td>G         </td><td>0.0314    </td><td>0.0155    </td><td>0.042600  </td></tr>\n",
       "</tbody>\n",
       "</table>\n"
      ],
      "text/latex": [
       "\\begin{tabular}{r|lllllllllllllll}\n",
       "  & chr & gene\\_name & start & endpos & strand & TSS & CHR & oldPos & BP & SNP & Effect\\_allele & Non\\_Effect\\_allele & Beta & SE & P\\\\\n",
       "\\hline\n",
       "\t430 & chr1       & LAPTM5     & 30732469   & 30757820   & -          & 30757820   & chr1       & 31230007   & 30757160   & rs2377488  & C          & G          & 0.0525     & 0.0200     & 0.008816  \\\\\n",
       "\t430.1 & chr1       & LAPTM5     & 30732469   & 30757820   & -          & 30757820   & chr1       & 31230099   & 30757252   & rs1407884  & A          & G          & 0.0514     & 0.0199     & 0.009655  \\\\\n",
       "\t430.2 & chr1       & LAPTM5     & 30732469   & 30757820   & -          & 30757820   & chr1       & 31230668   & 30757821   & rs2273979  & T          & C          & 0.0514     & 0.0198     & 0.009553  \\\\\n",
       "\t430.3 & chr1       & LAPTM5     & 30732469   & 30757820   & -          & 30757820   & chr1       & 31231254   & 30758407   & rs80174570 & G          & T          & 0.0329     & 0.0163     & 0.043180  \\\\\n",
       "\t430.4 & chr1       & LAPTM5     & 30732469   & 30757820   & -          & 30757820   & chr1       & 31231333   & 30758486   & rs10914193 & A          & G          & 0.0317     & 0.0154     & 0.039570  \\\\\n",
       "\t430.5 & chr1       & LAPTM5     & 30732469   & 30757820   & -          & 30757820   & chr1       & 31231386   & 30758539   & rs3762296  & A          & G          & 0.0314     & 0.0155     & 0.042600  \\\\\n",
       "\\end{tabular}\n"
      ],
      "text/markdown": [
       "\n",
       "| <!--/--> | chr | gene_name | start | endpos | strand | TSS | CHR | oldPos | BP | SNP | Effect_allele | Non_Effect_allele | Beta | SE | P | \n",
       "|---|---|---|---|---|---|\n",
       "| 430 | chr1       | LAPTM5     | 30732469   | 30757820   | -          | 30757820   | chr1       | 31230007   | 30757160   | rs2377488  | C          | G          | 0.0525     | 0.0200     | 0.008816   | \n",
       "| 430.1 | chr1       | LAPTM5     | 30732469   | 30757820   | -          | 30757820   | chr1       | 31230099   | 30757252   | rs1407884  | A          | G          | 0.0514     | 0.0199     | 0.009655   | \n",
       "| 430.2 | chr1       | LAPTM5     | 30732469   | 30757820   | -          | 30757820   | chr1       | 31230668   | 30757821   | rs2273979  | T          | C          | 0.0514     | 0.0198     | 0.009553   | \n",
       "| 430.3 | chr1       | LAPTM5     | 30732469   | 30757820   | -          | 30757820   | chr1       | 31231254   | 30758407   | rs80174570 | G          | T          | 0.0329     | 0.0163     | 0.043180   | \n",
       "| 430.4 | chr1       | LAPTM5     | 30732469   | 30757820   | -          | 30757820   | chr1       | 31231333   | 30758486   | rs10914193 | A          | G          | 0.0317     | 0.0154     | 0.039570   | \n",
       "| 430.5 | chr1       | LAPTM5     | 30732469   | 30757820   | -          | 30757820   | chr1       | 31231386   | 30758539   | rs3762296  | A          | G          | 0.0314     | 0.0155     | 0.042600   | \n",
       "\n",
       "\n"
      ],
      "text/plain": [
       "      chr  gene_name start    endpos   strand TSS      CHR  oldPos   BP      \n",
       "430   chr1 LAPTM5    30732469 30757820 -      30757820 chr1 31230007 30757160\n",
       "430.1 chr1 LAPTM5    30732469 30757820 -      30757820 chr1 31230099 30757252\n",
       "430.2 chr1 LAPTM5    30732469 30757820 -      30757820 chr1 31230668 30757821\n",
       "430.3 chr1 LAPTM5    30732469 30757820 -      30757820 chr1 31231254 30758407\n",
       "430.4 chr1 LAPTM5    30732469 30757820 -      30757820 chr1 31231333 30758486\n",
       "430.5 chr1 LAPTM5    30732469 30757820 -      30757820 chr1 31231386 30758539\n",
       "      SNP        Effect_allele Non_Effect_allele Beta   SE     P       \n",
       "430   rs2377488  C             G                 0.0525 0.0200 0.008816\n",
       "430.1 rs1407884  A             G                 0.0514 0.0199 0.009655\n",
       "430.2 rs2273979  T             C                 0.0514 0.0198 0.009553\n",
       "430.3 rs80174570 G             T                 0.0329 0.0163 0.043180\n",
       "430.4 rs10914193 A             G                 0.0317 0.0154 0.039570\n",
       "430.5 rs3762296  A             G                 0.0314 0.0155 0.042600"
      ]
     },
     "metadata": {},
     "output_type": "display_data"
    }
   ],
   "source": [
    "shoulder <- 1000\n",
    "gr.genes <- with(tbl.genes, GRanges(seqnames=chr, IRanges(start=TSS-shoulder, end=TSS+shoulder)))\n",
    "gr.snps   <- with(tbl.gwas, GRanges(seqnames=CHR, IRanges(start=BP, end=BP)))\n",
    "suppressWarnings(\n",
    "    tbl.overlaps <- as.data.frame(findOverlaps(gr.genes, gr.snps, type=\"any\"))\n",
    "    )\n",
    "tbl.combined <- cbind(tbl.genes[tbl.overlaps$queryHits,], tbl.gwas[tbl.overlaps$subjectHits,])\n",
    "head(tbl.combined)"
   ]
  },
  {
   "cell_type": "markdown",
   "metadata": {},
   "source": [
    "### create a table of footprints around the tss of each gene in tbl.combined  (slow!  ~ 2 minutes)"
   ]
  },
  {
   "cell_type": "code",
   "execution_count": 11,
   "metadata": {},
   "outputs": [
    {
     "name": "stdout",
     "output_type": "stream",
     "text": [
      "$chr\n",
      "[1] \"chr1\"\n",
      "\n",
      "$start\n",
      "[1] 30756820\n",
      "\n",
      "$end\n",
      "[1] 30758820\n",
      "\n",
      "$chr\n",
      "[1] \"chr1\"\n",
      "\n",
      "$start\n",
      "[1] 207495147\n",
      "\n",
      "$end\n",
      "[1] 207497147\n",
      "\n",
      "$chr\n",
      "[1] \"chr2\"\n",
      "\n",
      "$start\n",
      "[1] 165238402\n",
      "\n",
      "$end\n",
      "[1] 165240402\n",
      "\n",
      "$chr\n",
      "[1] \"chr2\"\n",
      "\n",
      "$start\n",
      "[1] 241148576\n",
      "\n",
      "$end\n",
      "[1] 241150576\n",
      "\n",
      "$chr\n",
      "[1] \"chr3\"\n",
      "\n",
      "$start\n",
      "[1] 151328548\n",
      "\n",
      "$end\n",
      "[1] 151330548\n",
      "\n",
      "$chr\n",
      "[1] \"chr3\"\n",
      "\n",
      "$start\n",
      "[1] 151383812\n",
      "\n",
      "$end\n",
      "[1] 151385812\n",
      "\n",
      "$chr\n",
      "[1] \"chr4\"\n",
      "\n",
      "$start\n",
      "[1] 94756968\n",
      "\n",
      "$end\n",
      "[1] 94758968\n",
      "\n",
      "$chr\n",
      "[1] \"chr5\"\n",
      "\n",
      "$start\n",
      "[1] 169636247\n",
      "\n",
      "$end\n",
      "[1] 169638247\n",
      "\n",
      "$chr\n",
      "[1] \"chr5\"\n",
      "\n",
      "$start\n",
      "[1] 179805398\n",
      "\n",
      "$end\n",
      "[1] 179807398\n",
      "\n",
      "$chr\n",
      "[1] \"chr6\"\n",
      "\n",
      "$start\n",
      "[1] 41200194\n",
      "\n",
      "$end\n",
      "[1] 41202194\n",
      "\n",
      "$chr\n",
      "[1] \"chr7\"\n",
      "\n",
      "$start\n",
      "[1] 101164593\n",
      "\n",
      "$end\n",
      "[1] 101166593\n",
      "\n",
      "$chr\n",
      "[1] \"chr8\"\n",
      "\n",
      "$start\n",
      "[1] 23224126\n",
      "\n",
      "$end\n",
      "[1] 23226126\n",
      "\n",
      "$chr\n",
      "[1] \"chr8\"\n",
      "\n",
      "$start\n",
      "[1] 66177725\n",
      "\n",
      "$end\n",
      "[1] 66179725\n",
      "\n",
      "$chr\n",
      "[1] \"chr8\"\n",
      "\n",
      "$start\n",
      "[1] 94894767\n",
      "\n",
      "$end\n",
      "[1] 94896767\n",
      "\n",
      "$chr\n",
      "[1] \"chr9\"\n",
      "\n",
      "$start\n",
      "[1] 117703332\n",
      "\n",
      "$end\n",
      "[1] 117705332\n",
      "\n",
      "$chr\n",
      "[1] \"chr11\"\n",
      "\n",
      "$start\n",
      "[1] 923894\n",
      "\n",
      "$end\n",
      "[1] 925894\n",
      "\n",
      "$chr\n",
      "[1] \"chr11\"\n",
      "\n",
      "$start\n",
      "[1] 47377576\n",
      "\n",
      "$end\n",
      "[1] 47379576\n",
      "\n",
      "$chr\n",
      "[1] \"chr10\"\n",
      "\n",
      "$start\n",
      "[1] 11741366\n",
      "\n",
      "$end\n",
      "[1] 11743366\n",
      "\n",
      "$chr\n",
      "[1] \"chr12\"\n",
      "\n",
      "$start\n",
      "[1] 54496711\n",
      "\n",
      "$end\n",
      "[1] 54498711\n",
      "\n",
      "$chr\n",
      "[1] \"chr15\"\n",
      "\n",
      "$start\n",
      "[1] 50764808\n",
      "\n",
      "$end\n",
      "[1] 50766808\n",
      "\n",
      "$chr\n",
      "[1] \"chr17\"\n",
      "\n",
      "$start\n",
      "[1] 5233860\n",
      "\n",
      "$end\n",
      "[1] 5235860\n",
      "\n",
      "$chr\n",
      "[1] \"chr17\"\n",
      "\n",
      "$start\n",
      "[1] 63476061\n",
      "\n",
      "$end\n",
      "[1] 63478061\n",
      "\n",
      "$chr\n",
      "[1] \"chr20\"\n",
      "\n",
      "$start\n",
      "[1] 10217830\n",
      "\n",
      "$end\n",
      "[1] 10219830\n",
      "\n"
     ]
    },
    {
     "data": {
      "text/html": [
       "<ol class=list-inline>\n",
       "\t<li>6719</li>\n",
       "\t<li>17</li>\n",
       "</ol>\n"
      ],
      "text/latex": [
       "\\begin{enumerate*}\n",
       "\\item 6719\n",
       "\\item 17\n",
       "\\end{enumerate*}\n"
      ],
      "text/markdown": [
       "1. 6719\n",
       "2. 17\n",
       "\n",
       "\n"
      ],
      "text/plain": [
       "[1] 6719   17"
      ]
     },
     "metadata": {},
     "output_type": "display_data"
    }
   ],
   "source": [
    "tbl.fp <- data.frame()\n",
    "for(gene in unique(tbl.combined$gene_name)){\n",
    "    #printf(\"--- gene: %s\", gene)\n",
    "    tbl.fpForGene <- getFootprintsForGene(fpf, gene, size.upstream=1000, size.downstream=1000)\n",
    "    #printf(\"%d fps for %s\", nrow(tbl.fpForGene), gene)\n",
    "    tbl.fp <- rbind(tbl.fp, tbl.fpForGene)\n",
    "    }\n",
    "dim(tbl.fp)"
   ]
  },
  {
   "cell_type": "markdown",
   "metadata": {},
   "source": [
    "###  within these gene promoter regions, now find overlap of footprints and  snps"
   ]
  },
  {
   "cell_type": "code",
   "execution_count": 12,
   "metadata": {},
   "outputs": [
    {
     "name": "stdout",
     "output_type": "stream",
     "text": [
      " [1] \"LAPTM5\"    \"SCN2A\"     \"PPP1R7\"    \"P2RY13\"    \"BMPR1B\"    \"DOCK2\"    \n",
      " [7] \"SQSTM1\"    \"TNFRSF10A\" \"NDUFAF6\"   \"TLR4\"      \"AP2A2\"     \"SPPL2A\"   \n",
      "[13] \"SCIMP\"     \"ACE\"       \"SNAP25\"   \n"
     ]
    }
   ],
   "source": [
    "gr.snpsInPromoters <- with(tbl.combined, GRanges(seqnames=chr, IRanges(start=BP, end=BP)))\n",
    "gr.fpInPromoters   <- with(tbl.fp, GRanges(seqnames=chrom, IRanges(start=start-10, end=endpos+10)))\n",
    "tbl.ov2 <- suppressWarnings(as.data.frame(findOverlaps(gr.snpsInPromoters, gr.fpInPromoters, type=\"any\")))\n",
    "\n",
    "tbl.snpsInPromotersInFootprints <- cbind(tbl.combined[tbl.ov2$queryHits,], tbl.fp[tbl.ov2$subjectHits,])\n",
    "print(unique(tbl.snpsInPromotersInFootprints$gene_name))"
   ]
  },
  {
   "cell_type": "markdown",
   "metadata": {},
   "source": [
    "### create tbl.prospects,  a condensed table of gene + snp info"
   ]
  },
  {
   "cell_type": "code",
   "execution_count": 13,
   "metadata": {
    "collapsed": true
   },
   "outputs": [],
   "source": [
    "gene.prospects <- unique(tbl.snpsInPromotersInFootprints$gene_name)\n",
    "tbl.prospects <- data.frame()\n",
    "for(gene in gene.prospects){\n",
    "   tbl.new <- unique(subset(tbl.snpsInPromotersInFootprints, gene_name==gene)[, c(\"gene_name\", \"SNP\", \"chr\", \"BP\", \"strand\")])\n",
    "   tbl.prospects <- rbind(tbl.prospects, tbl.new)\n",
    "   }"
   ]
  },
  {
   "cell_type": "markdown",
   "metadata": {},
   "source": [
    "### iteratve over those prospects, identify the promoter/footprint snps which change FIMO binding predictions  -  90 seconds or so"
   ]
  },
  {
   "cell_type": "code",
   "execution_count": 14,
   "metadata": {},
   "outputs": [
    {
     "name": "stdout",
     "output_type": "stream",
     "text": [
      "[1] ---- LAPTM5: noMotif\n",
      "[1] ---- SCN2A: gain\n",
      "[1] ---- PPP1R7: noMotif\n",
      "[1] ---- PPP1R7: noMotif\n",
      "[1] ---- P2RY13: noMotif\n",
      "[1] ---- BMPR1B: lossAndGain\n"
     ]
    },
    {
     "name": "stderr",
     "output_type": "stream",
     "text": [
      "Warning message:\n",
      "In if (mut.sequence == wt.sequence) {: the condition has length > 1 and only the first element will be used"
     ]
    },
    {
     "name": "stdout",
     "output_type": "stream",
     "text": [
      "[1] ---- DOCK2: gain\n",
      "[1] ---- SQSTM1: lossAndGain\n",
      "[1] ---- TNFRSF10A: noMotif\n",
      "[1] ---- NDUFAF6: noMotif\n",
      "[1] ---- NDUFAF6: lossAndGain\n",
      "[1] ---- NDUFAF6: gain\n",
      "[1] ---- NDUFAF6: gain\n",
      "[1] ---- TLR4: noMotif\n",
      "[1] ---- AP2A2: gain\n",
      "[1] ---- AP2A2: gain\n",
      "[1] ---- AP2A2: gain\n",
      "[1] ---- SPPL2A: noMotif\n",
      "[1] ---- SCIMP: noMotif\n",
      "[1] ---- ACE: noMotif\n",
      "[1] ---- ACE: noMotif\n",
      "[1] ---- SNAP25: gain\n"
     ]
    }
   ],
   "source": [
    "# make sure the fimo service is up and running.  \n",
    "result <- requestMatch(fimo.service, list(bogus='xxxxx'))\n",
    "tmp <- checkEquals(result, data.frame())\n",
    "\n",
    "for(r in 1:nrow(tbl.prospects)){\n",
    "  rsid <- tbl.prospects$SNP[r]\n",
    "  if(rsid == \"rs79037040\") rsid <- \"rs13278062\"\n",
    "  chrom <- tbl.prospects$chr[r]\n",
    "  loc <- tbl.prospects$BP[r]\n",
    "  gene <- tbl.prospects$gene_name[r]\n",
    "  ambiguity.code <- snpsById(dbSNP, rsid)$alleles_as_ambig\n",
    "  elements.string <- IUPAC_CODE_MAP[[ambiguity.code]]\n",
    "  elements <- strsplit(elements.string,'')[[1]]\n",
    "  wt <- as.character(getSeq(hg38, chrom, loc, loc))\n",
    "  mut <- setdiff(elements, wt)\n",
    "  status <- doComparativeFimo(chrom, loc, wt, mut, 10, quiet=TRUE)\n",
    "  printf(\"---- %s: %s\", gene, status)\n",
    "  }"
   ]
  },
  {
   "cell_type": "code",
   "execution_count": null,
   "metadata": {
    "collapsed": true
   },
   "outputs": [],
   "source": []
  }
 ],
 "metadata": {
  "anaconda-cloud": {},
  "kernelspec": {
   "display_name": "R",
   "language": "R",
   "name": "ir"
  },
  "language_info": {
   "codemirror_mode": "r",
   "file_extension": ".r",
   "mimetype": "text/x-r-source",
   "name": "R",
   "pygments_lexer": "r",
   "version": "3.3.2"
  }
 },
 "nbformat": 4,
 "nbformat_minor": 2
}
